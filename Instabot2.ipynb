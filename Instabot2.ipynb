{
 "cells": [
  {
   "cell_type": "code",
   "execution_count": 1,
   "id": "6a8d472a",
   "metadata": {},
   "outputs": [],
   "source": [
    "from selenium import webdriver\n",
    "from selenium.webdriver.chrome.service import Service\n",
    "from selenium import webdriver\n",
    "from selenium.webdriver.common.by import By\n",
    "from selenium.webdriver.support.select import Select\n",
    "import time\n",
    "from bs4 import BeautifulSoup\n",
    "from selenium.webdriver.support import expected_conditions as EC\n",
    "from selenium.webdriver.support.ui import WebDriverWait\n",
    "from selenium.common.exceptions import TimeoutException\n",
    "from selenium.common.exceptions import NoSuchElementException\n",
    "from selenium.common.exceptions import ElementClickInterceptedException\n",
    "import numpy as np\n",
    "import matplotlib.pyplot as plt "
   ]
  },
  {
   "cell_type": "markdown",
   "id": "44cce2af",
   "metadata": {},
   "source": [
    "Opening the browser"
   ]
  },
  {
   "cell_type": "code",
   "execution_count": 2,
   "id": "45718a23",
   "metadata": {},
   "outputs": [],
   "source": [
    "service=Service(executable_path='C:\\webdrivers\\chromedriver')\n",
    "driver=webdriver.Chrome(service=service)\n",
    "driver.get('https://www.instagram.com/')\n",
    "driver.maximize_window()\n",
    "wait=WebDriverWait(driver,10)"
   ]
  },
  {
   "cell_type": "markdown",
   "id": "44afcacf",
   "metadata": {},
   "source": [
    "log in to instagram"
   ]
  },
  {
   "cell_type": "code",
   "execution_count": 3,
   "id": "6d25ca8d",
   "metadata": {},
   "outputs": [],
   "source": [
    "def login(username,password):\n",
    "    try:\n",
    "        \n",
    "        x=wait.until(EC.presence_of_element_located((By.NAME,'username')))\n",
    "        \n",
    "        #log in page\n",
    "        txtbox=driver.find_element(By.NAME,'username')\n",
    "        txtbox.send_keys(username)\n",
    "\n",
    "        txtbox=driver.find_element(By.NAME,'password')\n",
    "        txtbox.send_keys(password)\n",
    "\n",
    "        driver.find_element(By.CLASS_NAME,'_acan._acap._acas._aj1-').submit()\n",
    "        \n",
    "        #save your info: No\n",
    "        pop_up=wait.until(EC.presence_of_element_located((By.CLASS_NAME,'_ac8f')))\n",
    "        pop_up.click()\n",
    "\n",
    "        \n",
    "        #Turn on Notification: No\n",
    "        pop_up=wait.until(EC.presence_of_element_located((By.CLASS_NAME,'_a9--._a9_1')))\n",
    "        pop_up.click()\n",
    "    except TimeoutException:\n",
    "        print('Oops, Time out')"
   ]
  },
  {
   "cell_type": "code",
   "execution_count": 4,
   "id": "e9d840e4",
   "metadata": {},
   "outputs": [],
   "source": [
    "username='debayan.biswas.79'\n",
    "password='8902279117Debayan'\n",
    "login(username,password)"
   ]
  },
  {
   "cell_type": "markdown",
   "id": "5e724574",
   "metadata": {},
   "source": [
    " ## 1.1) $\\text{From the list of instagram handles you obtained when you searched ‘food’ in previous project.}$ $\\text{ Open the first 10 handles and find the top 5 which have the highest number of followers}$"
   ]
  },
  {
   "cell_type": "code",
   "execution_count": 6,
   "id": "0c56ea9b",
   "metadata": {},
   "outputs": [],
   "source": [
    "def get_handles():\n",
    "    try:\n",
    "        # waiting and finding search bar\n",
    "        wait.until(EC.presence_of_element_located((By.CLASS_NAME,'_aacl._aacp._aacu._aacx._aada')))\n",
    "        driver.find_element(By.CLASS_NAME,'_aacl._aacp._aacu._aacx._aada').click()\n",
    "        \n",
    "        # waiting and typing 'food' in search bar\n",
    "        wait.until(EC.presence_of_element_located((By.CLASS_NAME,'_aauy')))\n",
    "        driver.find_element(By.CLASS_NAME,'_aauy').send_keys('food')\n",
    "\n",
    "        #give time to load all handles\n",
    "        \n",
    "        wait.until(EC.presence_of_element_located((By.CLASS_NAME,'_abm4')))\n",
    "        time.sleep(5)\n",
    "        #printing the handles\n",
    "        \n",
    "        li=[]\n",
    "        for i in driver.find_elements(By.CLASS_NAME,'_abm4'):\n",
    "            if len(i.text)==0 or i.text.split('\\n')[0][0]=='#':\n",
    "                continue\n",
    "            \n",
    "            #print(i.text.split('\\n')[0])\n",
    "            li.append(i.text.split('\\n')[0])\n",
    "            if len(li)==10:\n",
    "                break\n",
    "            \n",
    "        #closing the search bar\n",
    "        \n",
    "        driver.find_element(By.CLASS_NAME,'_ab6-').click()\n",
    "        return li\n",
    "    except TimeoutException:\n",
    "        print('Time limit exceeded')"
   ]
  },
  {
   "cell_type": "code",
   "execution_count": 7,
   "id": "3e07b738",
   "metadata": {},
   "outputs": [],
   "source": [
    "#getting the handles \n",
    "handles=get_handles()\n"
   ]
  },
  {
   "cell_type": "code",
   "execution_count": 8,
   "id": "5837fe9d",
   "metadata": {},
   "outputs": [],
   "source": [
    "# Run this cell to get the followers of extracted handles\n",
    "followers=[]\n",
    "for i in handles:\n",
    "    #opening the handle\n",
    "    driver.get(f'https://www.instagram.com/{i}/')\n",
    "    \n",
    "    #Waiting for the followers element\n",
    "    wait.until(EC.presence_of_element_located((By.CLASS_NAME,'_ac2a')))\n",
    "    time.sleep(3)\n",
    "    bttn=driver.find_elements(By.CLASS_NAME,'_ac2a')\n",
    "    \n",
    "    #appending the number of followers in followers list\n",
    "    txt=bttn[1].text\n",
    "    \n",
    "    if txt[-1]=='K':\n",
    "        followers.append(float(txt[:-1])*1000)\n",
    "    elif ',' in txt:\n",
    "        li=txt.split(',')\n",
    "        s=''\n",
    "        for i in li:\n",
    "            s=s+i\n",
    "        \n",
    "        followers.append(float(s))\n",
    "    else:\n",
    "        followers.append(float(txt))\n",
    "        \n",
    "    \n",
    "driver.get(f'https://www.instagram.com/{username}/')"
   ]
  },
  {
   "cell_type": "code",
   "execution_count": 10,
   "id": "d7b8b7a9",
   "metadata": {},
   "outputs": [
    {
     "name": "stdout",
     "output_type": "stream",
     "text": [
      "Top 5 which have the highest number of followers:\n",
      "\n",
      "foodtalkindia :  309000.0\n",
      "food :  182000.0\n",
      "foodzpah :  145000.0\n",
      "food_fflavourss :  39300.0\n",
      "my_food_lane :  24900.0\n"
     ]
    }
   ],
   "source": [
    "followers=np.array(followers,dtype='float')\n",
    "handles=np.array(handles)\n",
    "\n",
    "#sort the handles according to the number of followers\n",
    "handles=handles[followers.argsort()]\n",
    "followers=np.sort(followers)\n",
    "\n",
    "#filter out the top 5 \n",
    "handles=handles[-1:-6:-1]\n",
    "followers=followers[-1:-6:-1]\n",
    "print('Top 5 which have the highest number of followers:')\n",
    "print()\n",
    "for i in range(5):\n",
    "    print(handles[i],': ',followers[i])\n"
   ]
  },
  {
   "cell_type": "markdown",
   "id": "c182fbfa",
   "metadata": {},
   "source": [
    "## 1.2) $\\text{Now Find the number of posts these handles have done in the previous 3 days.\n",
    "}$"
   ]
  },
  {
   "cell_type": "code",
   "execution_count": 55,
   "id": "ba97e5b7",
   "metadata": {},
   "outputs": [],
   "source": [
    "#this function returns number of post posted by user in n days\n",
    "def count_of_post(day):\n",
    "    driver.refresh()\n",
    "    driver.refresh()\n",
    "    time.sleep(6)\n",
    "    try :\n",
    "        #locating first post\n",
    "    \n",
    "        try:\n",
    "            post = wait.until(EC.presence_of_element_located((By.CLASS_NAME,'_aagw')))\n",
    "            post.click()\n",
    "            \n",
    "        # if there is no posts at all \n",
    "         \n",
    "        except TimeoutException:\n",
    "            return 0\n",
    "              \n",
    "        count = 0 \n",
    "        \n",
    "        while True :\n",
    "            #getting date of the the post\n",
    "            time.sleep(4)\n",
    "            temp = wait.until(EC.presence_of_element_located((By.CLASS_NAME,'_aaqe')))\n",
    "            months=['J','F','M','A','S','O','N','D']\n",
    "            li=temp.text.split()\n",
    "            # if it is like 2 hours ago or something like that\n",
    "            if (li[1]=='minutes') or (li[1]=='hours') or (li[1]=='minute') or (li[1]=='hour'):\n",
    "                count=count+1\n",
    "                next_but = wait.until(EC.presence_of_element_located((By.CLASS_NAME,'_aaqg._aaqh')))\n",
    "                next_but.click()\n",
    "                \n",
    "                continue\n",
    "            # if it is like 2 hours ago or something like that\n",
    "            if (li[1]=='MINUTES') or (li[1]=='HOURS') or (li[1]=='MINUTE') or (li[1]=='HOUR'):\n",
    "                \n",
    "                count=count+1\n",
    "                next_but = wait.until(EC.presence_of_element_located((By.CLASS_NAME,'_aaqg._aaqh')))\n",
    "                next_but.click()\n",
    "                \n",
    "                \n",
    "                continue\n",
    "            #if it is January 23 or something like that\n",
    "            if (temp.text[0] in months):\n",
    "                break\n",
    "            \n",
    "            val=int(temp.text.split()[0])\n",
    "            # if it is 1 days ago or 2 days ago or something like that\n",
    "            if val>day:\n",
    "                break\n",
    "            else:\n",
    "                count=count+1\n",
    "            \n",
    "            #locating next button\n",
    "            \n",
    "            next_but = wait.until(EC.presence_of_element_located((By.CLASS_NAME,'_aaqg._aaqh')))\n",
    "            next_but.click()\n",
    "            \n",
    "        #locating the close button\n",
    "        time.sleep(2)\n",
    "        name='x78zum5.x6s0dn4.xl56j7k.xdt5ytf'\n",
    "        close=wait.until(EC.presence_of_element_located((By.CLASS_NAME,name)))\n",
    "        \n",
    "        close.click()\n",
    "        return count\n",
    "    \n",
    "    except TimeoutException :\n",
    "        print (\"Something went wrong! Try Again\")\n",
    "    "
   ]
  },
  {
   "cell_type": "code",
   "execution_count": 35,
   "id": "95a27efa",
   "metadata": {},
   "outputs": [
    {
     "data": {
      "text/plain": [
       "array(['foodtalkindia', 'food', 'food_fflavourss', 'food_of_kolkata',\n",
       "       'my_food_lane'], dtype='<U17')"
      ]
     },
     "execution_count": 35,
     "metadata": {},
     "output_type": "execute_result"
    }
   ],
   "source": []
  },
  {
   "cell_type": "code",
   "execution_count": 56,
   "id": "9aa58e1a",
   "metadata": {},
   "outputs": [],
   "source": [
    "counts=[]\n",
    "for i in handles:\n",
    "    time.sleep(2)\n",
    "    driver.get(f'https://www.instagram.com/{i}/')\n",
    "    counts.append(count_of_post(3))\n",
    "    \n",
    "    \n",
    "\n",
    "#     counts.append()\n",
    "# times.sleep(2)\n",
    "# driver.get(f'https://www.instagram.com/{username}/')"
   ]
  },
  {
   "cell_type": "markdown",
   "id": "de4721d9",
   "metadata": {},
   "source": [
    "## 1.3 $\\text{Depict this information using a suitable graph.}$"
   ]
  },
  {
   "cell_type": "code",
   "execution_count": 57,
   "id": "36b853ff",
   "metadata": {},
   "outputs": [
    {
     "data": {
      "image/png": "[encoded data removed]",
      "text/plain": [
       "<Figure size 640x480 with 1 Axes>"
      ]
     },
     "metadata": {},
     "output_type": "display_data"
    }
   ],
   "source": [
    "plt.bar(handles,counts)\n",
    "plt.title('Number of posts in past 3 days')\n",
    "plt.grid()\n",
    "plt.xticks(rotation=40)\n",
    "plt.show()"
   ]
  },
  {
   "cell_type": "code",
   "execution_count": 58,
   "id": "e1b012b3",
   "metadata": {},
   "outputs": [
    {
     "name": "stdout",
     "output_type": "stream",
     "text": [
      "[8, 4, 0, 0, 0]\n"
     ]
    }
   ],
   "source": [
    "print(counts)"
   ]
  },
  {
   "cell_type": "code",
   "execution_count": 11,
   "id": "5c619662",
   "metadata": {},
   "outputs": [
    {
     "data": {
      "text/plain": [
       "'x1i10hfl.xjbqb8w.x6umtig.x1b1mbwd.xaqea5y.xav7gou.x9f619.x1ypdohk.xt0psk2.xe8uvvx.xdj266r.x11i5rnm.xat24cr.x1mh8g0r.xexx8yu.x4uap5.x18d9i69.xkhd6sd.x16tdsg8.x1hl2dhg.xggy1nq.x1a2a7pz._aa9__a6hd'"
      ]
     },
     "execution_count": 11,
     "metadata": {},
     "output_type": "execute_result"
    }
   ],
   "source": []
  },
  {
   "cell_type": "code",
   "execution_count": 16,
   "id": "f9c33a12",
   "metadata": {},
   "outputs": [],
   "source": [
    "def contents_of_post():\n",
    "    name='x1i10hfl.xjbqb8w.x6umtig.x1b1mbwd.xaqea5y.xav7gou.x9f619.x1ypdohk.xt0psk2.xe8uvvx.xdj266r.x11i5rnm.xat24cr.x1mh8g0r.xexx8yu.x4uap5.x18d9i69.xkhd6sd.x16tdsg8.x1hl2dhg.xggy1nq.x1a2a7pz._aa9__a6hd'\n",
    "\n",
    "    try :\n",
    "        li=[]\n",
    "        #locating first post\n",
    "    \n",
    "        try:\n",
    "            post = wait.until(EC.presence_of_element_located((By.CLASS_NAME,'_aagw')))\n",
    "            time.sleep(3)\n",
    "            post.click()\n",
    "            \n",
    "        # if there is no posts at all \n",
    "         \n",
    "        except TimeoutException:\n",
    "            return 0\n",
    "              \n",
    "        count = 0 \n",
    "        \n",
    "        while True :\n",
    "            #getting date of the the post\n",
    "            time.sleep(4)\n",
    "            \n",
    "            wait.until(EC.presence_of_element_located((By.CLASS_NAME,name)))\n",
    "            elements=driver.find_elements(By.CLASS_NAME,name)\n",
    "            time.sleep(2)\n",
    "            \n",
    "            for i in elements:\n",
    "                li.append(i.text)\n",
    "            \n",
    "            \n",
    "            #locating next button\n",
    "            \n",
    "            next_but = wait.until(EC.presence_of_element_located((By.CLASS_NAME,'_aaqg._aaqh')))\n",
    "            next_but.click()\n",
    "            \n",
    "        #locating the close button\n",
    "        time.sleep(2)\n",
    "        name='x78zum5.x6s0dn4.xl56j7k.xdt5ytf'\n",
    "        close=wait.until(EC.presence_of_element_located((By.CLASS_NAME,name)))\n",
    "        \n",
    "        close.click()\n",
    "        return li\n",
    "    \n",
    "    except TimeoutException :\n",
    "        print (\"Something went wrong! Try Again\")\n",
    "    "
   ]
  },
  {
   "cell_type": "code",
   "execution_count": 18,
   "id": "f031706d",
   "metadata": {},
   "outputs": [
    {
     "name": "stdout",
     "output_type": "stream",
     "text": [
      "Something went wrong! Try Again\n"
     ]
    }
   ],
   "source": [
    "contents=[]\n",
    "for i in handles:\n",
    "    time.sleep(2)\n",
    "    driver.get(f'https://www.instagram.com/{i}/')\n",
    "    contents.append(contents_of_post())\n",
    "    break\n",
    "   "
   ]
  }
 ],
 "metadata": {
  "kernelspec": {
   "display_name": "Python 3 (ipykernel)",
   "language": "python",
   "name": "python3"
  },
  "language_info": {
   "codemirror_mode": {
    "name": "ipython",
    "version": 3
   },
   "file_extension": ".py",
   "mimetype": "text/x-python",
   "name": "python",
   "nbconvert_exporter": "python",
   "pygments_lexer": "ipython3",
   "version": "3.9.13"
  }
 },
 "nbformat": 4,
 "nbformat_minor": 5
}
